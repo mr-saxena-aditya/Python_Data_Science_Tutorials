{
 "cells": [
  {
   "cell_type": "code",
   "execution_count": 89,
   "id": "36a81a1e-2b72-422e-9781-11441915e704",
   "metadata": {},
   "outputs": [
    {
     "name": "stdout",
     "output_type": "stream",
     "text": [
      "INTRODUCTION TO SHAPE MANIPULATION IN NUMPY\n"
     ]
    }
   ],
   "source": [
    "## [AN INTRODUCTORY NOTEBOOK ON NUMPY]\n",
    "## @author  : Aditya Saxena\n",
    "## @date    : August 22, 2022\n",
    "## @version : 1.0\n",
    "\n",
    "# [CHAPTER 1] - Introduction to Shape Manipulation in Numpy\n",
    "print(\"INTRODUCTION TO SHAPE MANIPULATION IN NUMPY\")"
   ]
  },
  {
   "cell_type": "code",
   "execution_count": 96,
   "id": "225b0e74-96b8-4a84-8d6e-88a04457decf",
   "metadata": {},
   "outputs": [],
   "source": [
    "# [Importing the Numpy Library]\n",
    "import numpy as np\n",
    "temprature_in_toronto = np.array([[23,25,28,30,35,29,28],[26,25,28,30,33,29,27],[27,26,23,21,18,20,25],[22,20,26,29,33,31,30]])"
   ]
  },
  {
   "cell_type": "code",
   "execution_count": 152,
   "id": "1acb90ef-bd1c-4756-a611-8f78bf7bf9e6",
   "metadata": {},
   "outputs": [
    {
     "data": {
      "text/plain": [
       "array([[23, 25, 28, 30, 35, 29, 28],\n",
       "       [26, 25, 28, 30, 33, 29, 27],\n",
       "       [27, 26, 23, 21, 18, 20, 25],\n",
       "       [22, 20, 26, 29, 33, 31, 30]])"
      ]
     },
     "execution_count": 152,
     "metadata": {},
     "output_type": "execute_result"
    }
   ],
   "source": [
    "# [Reshaping the Array 4x7]\n",
    "temprature_in_toronto.reshape(4,7)"
   ]
  },
  {
   "cell_type": "code",
   "execution_count": 153,
   "id": "efec78be-0d9d-4ad1-94ce-df3cd0633a41",
   "metadata": {},
   "outputs": [
    {
     "data": {
      "text/plain": [
       "array([[23, 25, 28, 30],\n",
       "       [35, 29, 28, 26],\n",
       "       [25, 28, 30, 33],\n",
       "       [29, 27, 27, 26],\n",
       "       [23, 21, 18, 20],\n",
       "       [25, 22, 20, 26],\n",
       "       [29, 33, 31, 30]])"
      ]
     },
     "execution_count": 153,
     "metadata": {},
     "output_type": "execute_result"
    }
   ],
   "source": [
    "# [Reshaping the Array 7x4]\n",
    "temprature_in_toronto.reshape(7,4)"
   ]
  },
  {
   "cell_type": "code",
   "execution_count": 154,
   "id": "610a8359-77fb-4c36-8cf5-332931a5675a",
   "metadata": {},
   "outputs": [
    {
     "data": {
      "text/plain": [
       "array([[[23, 25],\n",
       "        [28, 30]],\n",
       "\n",
       "       [[35, 29],\n",
       "        [28, 26]],\n",
       "\n",
       "       [[25, 28],\n",
       "        [30, 33]],\n",
       "\n",
       "       [[29, 27],\n",
       "        [27, 26]],\n",
       "\n",
       "       [[23, 21],\n",
       "        [18, 20]],\n",
       "\n",
       "       [[25, 22],\n",
       "        [20, 26]],\n",
       "\n",
       "       [[29, 33],\n",
       "        [31, 30]]])"
      ]
     },
     "execution_count": 154,
     "metadata": {},
     "output_type": "execute_result"
    }
   ],
   "source": [
    "# [Reshaping the Array 7x2x2]\n",
    "temprature_in_toronto.reshape(7,2,2)"
   ]
  },
  {
   "cell_type": "code",
   "execution_count": 258,
   "id": "f0300f1a-f08f-4822-8133-b13a3c2ca889",
   "metadata": {},
   "outputs": [
    {
     "name": "stdout",
     "output_type": "stream",
     "text": [
      "[[23 25 28 30]\n",
      " [35 29 28 26]\n",
      " [25 28 30 33]\n",
      " [29 27 27 26]\n",
      " [23 21 18 20]\n",
      " [25 22 20 26]\n",
      " [29 33 31 30]]\n"
     ]
    }
   ],
   "source": [
    "# [Reshaping the Array back to 7x4]\n",
    "ravel_array = temprature_in_toronto.reshape(7,4)\n",
    "print(ravel_array)"
   ]
  },
  {
   "cell_type": "code",
   "execution_count": 156,
   "id": "f102e5ee-4641-4f49-abfd-b7c35d68c220",
   "metadata": {},
   "outputs": [
    {
     "data": {
      "text/plain": [
       "[array([[23],\n",
       "        [26],\n",
       "        [27],\n",
       "        [22]]),\n",
       " array([[25],\n",
       "        [25],\n",
       "        [26],\n",
       "        [20]]),\n",
       " array([[28],\n",
       "        [28],\n",
       "        [23],\n",
       "        [26]]),\n",
       " array([[30],\n",
       "        [30],\n",
       "        [21],\n",
       "        [29]]),\n",
       " array([[35],\n",
       "        [33],\n",
       "        [18],\n",
       "        [33]]),\n",
       " array([[29],\n",
       "        [29],\n",
       "        [20],\n",
       "        [31]]),\n",
       " array([[28],\n",
       "        [27],\n",
       "        [25],\n",
       "        [30]])]"
      ]
     },
     "execution_count": 156,
     "metadata": {},
     "output_type": "execute_result"
    }
   ],
   "source": [
    "# [Splitting the Array 7 equal parts]\n",
    "np.hsplit(temprature_in_toronto,7)"
   ]
  },
  {
   "cell_type": "code",
   "execution_count": 157,
   "id": "84dba1db-2eb4-4253-afa2-5c7487e7ec93",
   "metadata": {},
   "outputs": [],
   "source": [
    "# [Creating an Array - 1]\n",
    "humidity_in_toronto_1 = np.array([34,73,34,45,56,70,90])"
   ]
  },
  {
   "cell_type": "code",
   "execution_count": 158,
   "id": "a52c2d9c-ada6-43d0-9c7e-25866e4233b9",
   "metadata": {},
   "outputs": [],
   "source": [
    "# [Creating an Array - 2]\n",
    "humidity_in_toronto_2 = np.array([55,57,70,43,44,87,56])"
   ]
  },
  {
   "cell_type": "code",
   "execution_count": 159,
   "id": "ccfd9ca5-b769-4b44-9514-abe6c81a9343",
   "metadata": {},
   "outputs": [],
   "source": [
    "# [Creating an Array - 3]\n",
    "humidity_in_toronto_3 = np.array([54,33,21,93,34,67,59])"
   ]
  },
  {
   "cell_type": "code",
   "execution_count": 160,
   "id": "8562a5ee-d47f-4924-a029-5c08ae4275ce",
   "metadata": {},
   "outputs": [],
   "source": [
    "# [Creating an Array - 4]\n",
    "humidity_in_toronto_4 = np.array([10,63,23,48,50,90,13])"
   ]
  },
  {
   "cell_type": "code",
   "execution_count": 248,
   "id": "885e7522-b3f3-4678-9745-390a32a41c27",
   "metadata": {},
   "outputs": [
    {
     "data": {
      "text/plain": [
       "array([34, 73, 34, 45, 56, 70, 90, 55, 57, 70, 43, 44, 87, 56, 54, 33, 21,\n",
       "       93, 34, 67, 59, 10, 63, 23, 48, 50, 90, 13])"
      ]
     },
     "execution_count": 248,
     "metadata": {},
     "output_type": "execute_result"
    }
   ],
   "source": [
    "# [Putting the humidity arrays together as a single array]\n",
    "np.hstack((humidity_in_toronto_1, humidity_in_toronto_2, humidity_in_toronto_3, humidity_in_toronto_4))"
   ]
  },
  {
   "cell_type": "code",
   "execution_count": 249,
   "id": "160cfcbf-2aa7-4a9e-a3cb-0309de354d62",
   "metadata": {},
   "outputs": [
    {
     "name": "stdout",
     "output_type": "stream",
     "text": [
      "INTRODUCTION TO UNIVERSAL FUNCTIONS\n"
     ]
    }
   ],
   "source": [
    "# [Chapter 2 - Introduction to Universal Functions]\n",
    "print(\"INTRODUCTION TO UNIVERSAL FUNCTIONS\")"
   ]
  },
  {
   "cell_type": "code",
   "execution_count": 250,
   "id": "7b7f4ca5-6fc0-4508-87cc-bc8ebae338ab",
   "metadata": {},
   "outputs": [
    {
     "name": "stdout",
     "output_type": "stream",
     "text": [
      "Value of Pi = 3.141592653589793\n"
     ]
    }
   ],
   "source": [
    "# [Introduction to Trigonometric Functions]\n",
    "\n",
    "# To use trigonometric functions in Numpy we import pi from Numpy\n",
    "from numpy import pi\n",
    "\n",
    "print(\"Value of Pi = \" + str(pi))"
   ]
  },
  {
   "cell_type": "code",
   "execution_count": 251,
   "id": "d88f2ea5-fd99-4c00-b9f3-3ba9e780eca4",
   "metadata": {},
   "outputs": [
    {
     "name": "stdout",
     "output_type": "stream",
     "text": [
      "COS(0)    = 1.0\n",
      "COS(pi)   = -1.0\n",
      "COS(pi/2) = 6.123233995736766e-17\n"
     ]
    }
   ],
   "source": [
    "# [Printing various values COS Function]\n",
    "print(\"COS(0)    = \" + str(np.cos(0)))\n",
    "print(\"COS(pi)   = \" + str(np.cos(pi)))\n",
    "print(\"COS(pi/2) = \" + str(np.cos(pi/2)))"
   ]
  },
  {
   "cell_type": "code",
   "execution_count": 252,
   "id": "a08aca86-56f5-4d30-bf4e-f2e4dea8642d",
   "metadata": {},
   "outputs": [
    {
     "name": "stdout",
     "output_type": "stream",
     "text": [
      "SIN(pi/2)  = 1.0\n",
      "SIN(3pi/2) = -1.0\n",
      "SIN(pi)    = 1.2246467991473532e-16\n"
     ]
    }
   ],
   "source": [
    "# [Printing various valus of SIN Function]\n",
    "print(\"SIN(pi/2)  = \" + str(np.sin(pi/2)))\n",
    "print(\"SIN(3pi/2) = \" + str(np.sin(pi*(3/2))))\n",
    "print(\"SIN(pi)    = \" + str(np.sin(pi)))"
   ]
  },
  {
   "cell_type": "code",
   "execution_count": 254,
   "id": "6f3abdea-8bf9-46d3-a83d-b24b212d2ca3",
   "metadata": {},
   "outputs": [
    {
     "name": "stdout",
     "output_type": "stream",
     "text": [
      "Please input a number of degrees :  33\n"
     ]
    },
    {
     "name": "stdout",
     "output_type": "stream",
     "text": [
      "SIN of 33 DEGREES : 0.2966316784620999\n",
      "COS of 33 DEGREES : 0.7033683215379002\n",
      "SUM OF SQUARES OF SIN AND COS : 1.0\n"
     ]
    }
   ],
   "source": [
    "# Printing Value of Sin^2(num) + Cos^2(num)\n",
    "input_num = int(input(\"Please input a number of degrees : \"))\n",
    "sin_of_num_of_degrees = np.sin((pi/180)*input_num)**2\n",
    "print (\"SIN of \"+str(input_num)+\" DEGREES : \"+str(sin_of_num_of_degrees))\n",
    "cos_of_num_of_degrees = np.cos((pi/180)*input_num)**2\n",
    "print (\"COS of \"+str(input_num)+\" DEGREES : \"+str(cos_of_num_of_degrees))\n",
    "sum_of_squares_of_sin_and_cos = sin_of_num_of_degrees + cos_of_num_of_degrees\n",
    "print(\"SUM OF SQUARES OF SIN AND COS : \"+str(sum_of_squares_of_sin_and_cos))"
   ]
  },
  {
   "cell_type": "code",
   "execution_count": 259,
   "id": "5d3a3034-8eee-4d2b-b909-b44bbc61fa57",
   "metadata": {},
   "outputs": [
    {
     "data": {
      "text/plain": [
       "array([23, 25, 28, 30, 35, 29, 28, 26, 25, 28, 30, 33, 29, 27, 27, 26, 23,\n",
       "       21, 18, 20, 25, 22, 20, 26, 29, 33, 31, 30])"
      ]
     },
     "execution_count": 259,
     "metadata": {},
     "output_type": "execute_result"
    }
   ],
   "source": [
    "# [Use of Ravel Function]\n",
    "# A 1-D array, containing the elements of the input, is returned. A copy is made only if needed.\n",
    "temprature_in_toronto.ravel()"
   ]
  },
  {
   "cell_type": "code",
   "execution_count": 242,
   "id": "1074aca6-f53e-4352-85ae-30aac82b9232",
   "metadata": {},
   "outputs": [
    {
     "name": "stdout",
     "output_type": "stream",
     "text": [
      "[5.83095189 8.54400375 5.83095189 6.70820393 7.48331477 8.36660027\n",
      " 9.48683298]\n"
     ]
    }
   ],
   "source": [
    "# [Finding Square Root of Elements in an Array]\n",
    "sqrt_humidity_in_toronto_1 = np.sqrt(humidity_in_toronto_1)\n",
    "print(sqrt_humidity_in_toronto_1)"
   ]
  },
  {
   "cell_type": "code",
   "execution_count": 68,
   "id": "a2c6fb14-a929-459d-b04a-514e016edd17",
   "metadata": {},
   "outputs": [],
   "source": [
    "# [Using the Floor Function on an Array]\n",
    "floor_sqrt_humidity_in_toronto = np.floor(np.sqrt(humidity_in_toronto_1))"
   ]
  },
  {
   "cell_type": "code",
   "execution_count": 184,
   "id": "039341af-7be9-4b89-9163-374219b83550",
   "metadata": {},
   "outputs": [
    {
     "name": "stdout",
     "output_type": "stream",
     "text": [
      "[5. 8. 5. 6. 7. 8. 9.]\n"
     ]
    }
   ],
   "source": [
    "# [Using the print function to print an array]\n",
    "print(floor_sqrt_humidity_in_toronto)"
   ]
  },
  {
   "cell_type": "code",
   "execution_count": 187,
   "id": "044c096c-1d60-47f0-b986-6779d60a9995",
   "metadata": {},
   "outputs": [],
   "source": [
    "# [Using the Exponent Function on an Array]\n",
    "exp_floor_sqrt_humidity_in_toronto = np.exp(floor_sqrt_humidity_in_toronto)"
   ]
  },
  {
   "cell_type": "code",
   "execution_count": 189,
   "id": "f8b1195d-a906-4350-bd46-d2546e4f4aa7",
   "metadata": {},
   "outputs": [
    {
     "data": {
      "text/plain": [
       "array([ 148.4131591 , 2980.95798704,  148.4131591 ,  403.42879349,\n",
       "       1096.63315843, 2980.95798704, 8103.08392758])"
      ]
     },
     "execution_count": 189,
     "metadata": {},
     "output_type": "execute_result"
    }
   ],
   "source": [
    "# [Printing an Array without the Print Function]\n",
    "exp_floor_sqrt_humidity_in_toronto"
   ]
  },
  {
   "cell_type": "code",
   "execution_count": 190,
   "id": "9c49a3cd-7911-429d-8228-2bb0215210e0",
   "metadata": {},
   "outputs": [
    {
     "name": "stdout",
     "output_type": "stream",
     "text": [
      "[DEMO] NUMPY FUNCTIONS DEMO\n"
     ]
    }
   ],
   "source": [
    "# [Demonstrating other Numpy Functions]\n",
    "print(\"[DEMO] NUMPY FUNCTIONS DEMO\")"
   ]
  },
  {
   "cell_type": "code",
   "execution_count": 191,
   "id": "5595861c-c475-4f92-a5a5-58bb3ce2c17f",
   "metadata": {},
   "outputs": [],
   "source": [
    "# [Defining a new ndarray in Numpy]\n",
    "new_array = np.array([10,20,30,40,50,60,70,80,90,100,1,2,3,4,5,6,7,8,9,10,11,12,13,14,15])"
   ]
  },
  {
   "cell_type": "code",
   "execution_count": 192,
   "id": "f02e772e-cc85-46c2-9dc6-7ba102cfaec4",
   "metadata": {},
   "outputs": [
    {
     "data": {
      "text/plain": [
       "array([ 10,  20,  30,  40,  50,  60,  70,  80,  90, 100,   1,   2,   3,\n",
       "         4,   5,   6,   7,   8,   9,  10,  11,  12,  13,  14,  15])"
      ]
     },
     "execution_count": 192,
     "metadata": {},
     "output_type": "execute_result"
    }
   ],
   "source": [
    "# [Printing the array without print function]\n",
    "new_array"
   ]
  },
  {
   "cell_type": "code",
   "execution_count": 193,
   "id": "c488b802-853e-4b0c-be5c-b1741d484038",
   "metadata": {},
   "outputs": [
    {
     "name": "stdout",
     "output_type": "stream",
     "text": [
      "[ 10  20  30  40  50  60  70  80  90 100   1   2   3   4   5   6   7   8\n",
      "   9  10  11  12  13  14  15]\n"
     ]
    }
   ],
   "source": [
    "# [Using the print function to print an array]\n",
    "print(new_array)"
   ]
  },
  {
   "cell_type": "code",
   "execution_count": 194,
   "id": "4c33892f-a305-45f1-af59-9d4a0c2e1290",
   "metadata": {},
   "outputs": [
    {
     "data": {
      "text/plain": [
       "array([[0., 0., 0.],\n",
       "       [0., 0., 0.],\n",
       "       [0., 0., 0.]])"
      ]
     },
     "execution_count": 194,
     "metadata": {},
     "output_type": "execute_result"
    }
   ],
   "source": [
    "# [Creating a 3x3 array with Numpy Zeros Function]\n",
    "array_with_zeros = np.zeros((3,3))\n",
    "array_with_zeros"
   ]
  },
  {
   "cell_type": "code",
   "execution_count": 195,
   "id": "4c077b51-4912-4536-98c0-1ad42549a5e6",
   "metadata": {},
   "outputs": [
    {
     "name": "stdout",
     "output_type": "stream",
     "text": [
      "[[0. 0. 0.]\n",
      " [0. 0. 0.]\n",
      " [0. 0. 0.]]\n"
     ]
    }
   ],
   "source": [
    "# [Using the print function to print an array]\n",
    "print(array_with_zeros)"
   ]
  },
  {
   "cell_type": "code",
   "execution_count": 197,
   "id": "4b1ee4fb-3b10-4195-bce7-92718bca9c45",
   "metadata": {},
   "outputs": [
    {
     "name": "stdout",
     "output_type": "stream",
     "text": [
      "[[1. 1. 1. 1. 1. 1. 1. 1.]\n",
      " [1. 1. 1. 1. 1. 1. 1. 1.]\n",
      " [1. 1. 1. 1. 1. 1. 1. 1.]\n",
      " [1. 1. 1. 1. 1. 1. 1. 1.]\n",
      " [1. 1. 1. 1. 1. 1. 1. 1.]\n",
      " [1. 1. 1. 1. 1. 1. 1. 1.]\n",
      " [1. 1. 1. 1. 1. 1. 1. 1.]\n",
      " [1. 1. 1. 1. 1. 1. 1. 1.]]\n"
     ]
    }
   ],
   "source": [
    "# [Creating an 8x8 array with Numpy One's Function]\n",
    "array_with_ones_8x8 = np.ones((8,8))\n",
    "print(array_with_ones_8x8)"
   ]
  },
  {
   "cell_type": "code",
   "execution_count": 198,
   "id": "13c61084-760b-4cfb-b604-c3fcb56571f6",
   "metadata": {},
   "outputs": [
    {
     "data": {
      "text/plain": [
       "array([[1., 1., 1.],\n",
       "       [1., 1., 1.],\n",
       "       [1., 1., 1.]])"
      ]
     },
     "execution_count": 198,
     "metadata": {},
     "output_type": "execute_result"
    }
   ],
   "source": [
    "# [Creating an 3x3 array with Numpy One's Function]\n",
    "array_with_ones = np.ones((3,3))\n",
    "array_with_ones"
   ]
  },
  {
   "cell_type": "code",
   "execution_count": 200,
   "id": "98541504-9e87-4488-9acd-db5e54b335a8",
   "metadata": {},
   "outputs": [
    {
     "name": "stdout",
     "output_type": "stream",
     "text": [
      "[[0.00e+000 1.53e-322 0.00e+000]\n",
      " [0.00e+000 0.00e+000 0.00e+000]]\n"
     ]
    }
   ],
   "source": [
    "# [Creating an array with Numpy Empty Function]\n",
    "array_with_empty = np.empty((2,3))\n",
    "print(array_with_empty)"
   ]
  },
  {
   "cell_type": "code",
   "execution_count": 208,
   "id": "0e845726-ccc7-4600-b365-8faa9998b251",
   "metadata": {},
   "outputs": [
    {
     "name": "stdout",
     "output_type": "stream",
     "text": [
      "[ 0  1  2  3  4  5  6  7  8  9 10 11 12 13 14 15 16 17 18 19]\n"
     ]
    }
   ],
   "source": [
    "# [Creating an array with Numpy Arrange Method]\n",
    "array_with_arange = np.arange(20)\n",
    "print(array_with_arange)"
   ]
  },
  {
   "cell_type": "code",
   "execution_count": 209,
   "id": "539eabba-9a43-4a56-9f0d-eef11d3035ce",
   "metadata": {},
   "outputs": [
    {
     "data": {
      "text/plain": [
       "array([[[ 0,  1,  2,  3,  4],\n",
       "        [ 5,  6,  7,  8,  9]],\n",
       "\n",
       "       [[10, 11, 12, 13, 14],\n",
       "        [15, 16, 17, 18, 19]]])"
      ]
     },
     "execution_count": 209,
     "metadata": {},
     "output_type": "execute_result"
    }
   ],
   "source": [
    "# [Reshape Method to change/create array]\n",
    "array_with_arange.reshape(2,2,5)"
   ]
  },
  {
   "cell_type": "code",
   "execution_count": 210,
   "id": "fecd96e8-29c4-4011-b37b-64898ccc99d2",
   "metadata": {},
   "outputs": [
    {
     "data": {
      "text/plain": [
       "array([[ 0,  1,  2,  3,  4],\n",
       "       [ 5,  6,  7,  8,  9],\n",
       "       [10, 11, 12, 13, 14],\n",
       "       [15, 16, 17, 18, 19]])"
      ]
     },
     "execution_count": 210,
     "metadata": {},
     "output_type": "execute_result"
    }
   ],
   "source": [
    "# [Reshape Method to change/create array]\n",
    "array_with_arange.reshape(4,5)"
   ]
  },
  {
   "cell_type": "code",
   "execution_count": 216,
   "id": "6dae6f23-2e09-42c6-9230-ede0f2b9a85e",
   "metadata": {},
   "outputs": [
    {
     "data": {
      "text/plain": [
       "array([[[[ 0,  1,  2,  3,  4],\n",
       "         [ 5,  6,  7,  8,  9]],\n",
       "\n",
       "        [[10, 11, 12, 13, 14],\n",
       "         [15, 16, 17, 18, 19]]]])"
      ]
     },
     "execution_count": 216,
     "metadata": {},
     "output_type": "execute_result"
    }
   ],
   "source": [
    "# [Reshape Method to change/create array]\n",
    "array_with_arange.reshape(1,2,2,5)"
   ]
  },
  {
   "cell_type": "code",
   "execution_count": 238,
   "id": "f3cd12a7-cbc2-40b0-9b76-5b1e3434ad64",
   "metadata": {},
   "outputs": [
    {
     "name": "stdout",
     "output_type": "stream",
     "text": [
      "[ 0.  1.  2.  3.  4.  5.  6.  7.  8.  9. 10.]\n"
     ]
    }
   ],
   "source": [
    "# [Linspace for linearly (equally) spaced data elements]\n",
    "# Return evenly spaced numbers over a specified interval.\n",
    "np_linspace = np.linspace(0,10,11)\n",
    "print(np_linspace)"
   ]
  },
  {
   "cell_type": "code",
   "execution_count": 235,
   "id": "010b4e1f-26b6-4cda-a744-17b901010880",
   "metadata": {},
   "outputs": [
    {
     "name": "stdout",
     "output_type": "stream",
     "text": [
      "[1 2 3 4]\n"
     ]
    }
   ],
   "source": [
    "# [One Dimensional Array]\n",
    "np_one_dim_array = np.array([1,2,3,4])\n",
    "print(np_one_dim_array)"
   ]
  },
  {
   "cell_type": "code",
   "execution_count": 227,
   "id": "6fe065c7-6abf-4993-9f6e-e7f6ff73747c",
   "metadata": {},
   "outputs": [
    {
     "name": "stdout",
     "output_type": "stream",
     "text": [
      "[[1 2 3 4]\n",
      " [5 6 7 8]]\n"
     ]
    }
   ],
   "source": [
    "# [Two Dimensional Array]\n",
    "np_two_dim_array = np.array([[1,2,3,4],[5,6,7,8]])\n",
    "print(np_two_dim_array)"
   ]
  },
  {
   "cell_type": "code",
   "execution_count": 229,
   "id": "3449ed7d-d838-473a-bfca-017cc3cc6e2e",
   "metadata": {},
   "outputs": [
    {
     "name": "stdout",
     "output_type": "stream",
     "text": [
      "[[[ 1  2  3]\n",
      "  [ 4  5  6]\n",
      "  [ 7  8  9]]\n",
      "\n",
      " [[10 11 12]\n",
      "  [13 14 15]\n",
      "  [16 17 17]]\n",
      "\n",
      " [[19 20 21]\n",
      "  [22 23 24]\n",
      "  [25 26 27]]]\n"
     ]
    }
   ],
   "source": [
    "# [Three Dimensional Array]\n",
    "np_three_dim_array = np.array([[[1,2,3],[4,5,6],[7,8,9]],[[10,11,12],[13,14,15],[16,17,17]],[[19,20,21],[22,23,24],[25,26,27]]])\n",
    "print(np_three_dim_array)"
   ]
  },
  {
   "cell_type": "code",
   "execution_count": 240,
   "id": "39333a9b-4d7e-4d58-a9f1-491d3672372e",
   "metadata": {},
   "outputs": [
    {
     "name": "stdout",
     "output_type": "stream",
     "text": [
      "[[ 1  2  3  4  5  6  7  8  9 10 11 12 13 14 15 16 17 17 19 20 21 22 23 24\n",
      "  25 26 27]]\n"
     ]
    }
   ],
   "source": [
    "# [Reshaping a three dimensional array]\n",
    "reshape_three_dim_as_one = np_three_dim_array.reshape(1,27)\n",
    "print(reshape_three_dim_as_one)"
   ]
  },
  {
   "cell_type": "code",
   "execution_count": 261,
   "id": "6a2f4513-a3c2-4898-a4df-70fbb721a62c",
   "metadata": {},
   "outputs": [
    {
     "ename": "ValueError",
     "evalue": "cannot resize this array: it does not own its data",
     "output_type": "error",
     "traceback": [
      "\u001b[0;31m---------------------------------------------------------------------------\u001b[0m",
      "\u001b[0;31mValueError\u001b[0m                                Traceback (most recent call last)",
      "Input \u001b[0;32mIn [261]\u001b[0m, in \u001b[0;36m<cell line: 2>\u001b[0;34m()\u001b[0m\n\u001b[1;32m      1\u001b[0m \u001b[38;5;66;03m# [Resizing an Array]\u001b[39;00m\n\u001b[0;32m----> 2\u001b[0m \u001b[43mreshape_three_dim_as_one\u001b[49m\u001b[38;5;241;43m.\u001b[39;49m\u001b[43mresize\u001b[49m\u001b[43m(\u001b[49m\u001b[38;5;241;43m2\u001b[39;49m\u001b[43m,\u001b[49m\u001b[38;5;241;43m7\u001b[39;49m\u001b[43m)\u001b[49m\n",
      "\u001b[0;31mValueError\u001b[0m: cannot resize this array: it does not own its data"
     ]
    }
   ],
   "source": [
    "# [Resizing an Array]\n",
    "reshape_three_dim_as_one.resize(2,7)"
   ]
  },
  {
   "cell_type": "code",
   "execution_count": 268,
   "id": "96df56d8-d2c9-4a71-af24-e897c2e625fa",
   "metadata": {},
   "outputs": [
    {
     "name": "stdout",
     "output_type": "stream",
     "text": [
      "[ 1  2  3  4  5  6  7  8  9 10]\n"
     ]
    }
   ],
   "source": [
    "# [Resizing an Array]\n",
    "resizable_array = np.array([1,2,3,4,5,6,7,8,9,10])\n",
    "print(resizable_array)"
   ]
  },
  {
   "cell_type": "code",
   "execution_count": 269,
   "id": "ac2c842d-3503-4938-a7be-846ffd1fd43f",
   "metadata": {},
   "outputs": [
    {
     "name": "stdout",
     "output_type": "stream",
     "text": [
      "[[ 1  2  3  4  5]\n",
      " [ 6  7  8  9 10]]\n"
     ]
    }
   ],
   "source": [
    "resizable_array.resize(2,5)\n",
    "print(resizable_array)"
   ]
  },
  {
   "cell_type": "code",
   "execution_count": null,
   "id": "e0a8a855-714d-471b-aac7-502ed21214c0",
   "metadata": {},
   "outputs": [],
   "source": []
  }
 ],
 "metadata": {
  "kernelspec": {
   "display_name": "Python 3 (ipykernel)",
   "language": "python",
   "name": "python3"
  },
  "language_info": {
   "codemirror_mode": {
    "name": "ipython",
    "version": 3
   },
   "file_extension": ".py",
   "mimetype": "text/x-python",
   "name": "python",
   "nbconvert_exporter": "python",
   "pygments_lexer": "ipython3",
   "version": "3.9.12"
  }
 },
 "nbformat": 4,
 "nbformat_minor": 5
}
