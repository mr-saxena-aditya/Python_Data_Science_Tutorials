{
 "cells": [
  {
   "cell_type": "code",
   "execution_count": 29,
   "id": "faa0a6bb-ccbf-46ed-867d-c017b42c0024",
   "metadata": {},
   "outputs": [],
   "source": [
    "##########################################################################################################################\n",
    "# INTRODUCTION TO SCI-KIT LEARN\n",
    "##########################################################################################################################\n",
    "# You have been provided with a dataset that contains the costs of advertising on different media channels\n",
    "# - and - \n",
    "# the corresponding sales of XYZ firm. Evaluate the dataset to:\n",
    "#\n",
    "# 1) Find the features or media channels used by the firm.\n",
    "# 2) Find the sales figures for each channel.\n",
    "# 3) Create a model to predict the sales outcome.\n",
    "# 4) Split it into training and testing datasets for the model.\n",
    "# 5) Calculate the mean squared error (MSE).\n",
    "##########################################################################################################################"
   ]
  },
  {
   "cell_type": "code",
   "execution_count": 43,
   "id": "6962f757-09bf-448a-a351-869ac08a8a1d",
   "metadata": {},
   "outputs": [],
   "source": [
    "# [Import the required libraries]\n",
    "import pandas as pd\n",
    "import sklearn as skl"
   ]
  },
  {
   "cell_type": "code",
   "execution_count": 44,
   "id": "8540109a-b253-4bc8-b127-574c0154d9fd",
   "metadata": {},
   "outputs": [],
   "source": [
    "# [Import the advertising dataset]\n",
    "df_adv_data = pd.read_csv('//Users//adityasaxena//Desktop//MyProjects//Data_Science_with_Python//Introduction to Scikit-Learn//Advertising.csv',index_col = 0)"
   ]
  },
  {
   "cell_type": "code",
   "execution_count": 45,
   "id": "a4928470-4025-424f-a8b5-9b181fedcb51",
   "metadata": {},
   "outputs": [
    {
     "data": {
      "text/html": [
       "<div>\n",
       "<style scoped>\n",
       "    .dataframe tbody tr th:only-of-type {\n",
       "        vertical-align: middle;\n",
       "    }\n",
       "\n",
       "    .dataframe tbody tr th {\n",
       "        vertical-align: top;\n",
       "    }\n",
       "\n",
       "    .dataframe thead th {\n",
       "        text-align: right;\n",
       "    }\n",
       "</style>\n",
       "<table border=\"1\" class=\"dataframe\">\n",
       "  <thead>\n",
       "    <tr style=\"text-align: right;\">\n",
       "      <th></th>\n",
       "      <th>TV</th>\n",
       "      <th>Radio</th>\n",
       "      <th>Newspaper</th>\n",
       "      <th>Sales</th>\n",
       "    </tr>\n",
       "  </thead>\n",
       "  <tbody>\n",
       "    <tr>\n",
       "      <th>1</th>\n",
       "      <td>230.1</td>\n",
       "      <td>37.8</td>\n",
       "      <td>69.2</td>\n",
       "      <td>22.1</td>\n",
       "    </tr>\n",
       "    <tr>\n",
       "      <th>2</th>\n",
       "      <td>44.5</td>\n",
       "      <td>39.3</td>\n",
       "      <td>45.1</td>\n",
       "      <td>10.4</td>\n",
       "    </tr>\n",
       "    <tr>\n",
       "      <th>3</th>\n",
       "      <td>17.2</td>\n",
       "      <td>45.9</td>\n",
       "      <td>69.3</td>\n",
       "      <td>9.3</td>\n",
       "    </tr>\n",
       "    <tr>\n",
       "      <th>4</th>\n",
       "      <td>151.5</td>\n",
       "      <td>41.3</td>\n",
       "      <td>58.5</td>\n",
       "      <td>18.5</td>\n",
       "    </tr>\n",
       "    <tr>\n",
       "      <th>5</th>\n",
       "      <td>180.8</td>\n",
       "      <td>10.8</td>\n",
       "      <td>58.4</td>\n",
       "      <td>12.9</td>\n",
       "    </tr>\n",
       "  </tbody>\n",
       "</table>\n",
       "</div>"
      ],
      "text/plain": [
       "      TV  Radio  Newspaper  Sales\n",
       "1  230.1   37.8       69.2   22.1\n",
       "2   44.5   39.3       45.1   10.4\n",
       "3   17.2   45.9       69.3    9.3\n",
       "4  151.5   41.3       58.5   18.5\n",
       "5  180.8   10.8       58.4   12.9"
      ]
     },
     "execution_count": 45,
     "metadata": {},
     "output_type": "execute_result"
    }
   ],
   "source": [
    "# [View the top 5 records]\n",
    "df_adv_data.head()"
   ]
  },
  {
   "cell_type": "code",
   "execution_count": 46,
   "id": "a3470126-1135-4d69-8529-c2336109a059",
   "metadata": {},
   "outputs": [
    {
     "data": {
      "text/plain": [
       "800"
      ]
     },
     "execution_count": 46,
     "metadata": {},
     "output_type": "execute_result"
    }
   ],
   "source": [
    "# [View the dataset size]\n",
    "df_adv_data.size"
   ]
  },
  {
   "cell_type": "code",
   "execution_count": 47,
   "id": "91a5a2d8-acf9-448c-b2a4-e42d23fe8c92",
   "metadata": {},
   "outputs": [
    {
     "data": {
      "text/plain": [
       "(200, 4)"
      ]
     },
     "execution_count": 47,
     "metadata": {},
     "output_type": "execute_result"
    }
   ],
   "source": [
    "# [View the shape of the dataset]\n",
    "df_adv_data.shape"
   ]
  },
  {
   "cell_type": "code",
   "execution_count": 35,
   "id": "d7a9367f-1a0b-4847-b22f-5117187ccdd7",
   "metadata": {},
   "outputs": [
    {
     "data": {
      "text/plain": [
       "Index(['TV', 'Radio', 'Newspaper', 'Sales'], dtype='object')"
      ]
     },
     "execution_count": 35,
     "metadata": {},
     "output_type": "execute_result"
    }
   ],
   "source": [
    "# [View the columns of the dataset]\n",
    "df_adv_data.columns"
   ]
  },
  {
   "cell_type": "code",
   "execution_count": 36,
   "id": "d3a9fb71-58b4-4ac7-bb01-bc0c252ac6d7",
   "metadata": {},
   "outputs": [],
   "source": [
    "# [Create a feature object from the columns]\n",
    "X_Feature = df_adv_data[['Newspaper','Radio','TV']]"
   ]
  },
  {
   "cell_type": "code",
   "execution_count": 37,
   "id": "fe2d2590-2d74-440c-a169-eb169fdfefa8",
   "metadata": {},
   "outputs": [
    {
     "data": {
      "text/html": [
       "<div>\n",
       "<style scoped>\n",
       "    .dataframe tbody tr th:only-of-type {\n",
       "        vertical-align: middle;\n",
       "    }\n",
       "\n",
       "    .dataframe tbody tr th {\n",
       "        vertical-align: top;\n",
       "    }\n",
       "\n",
       "    .dataframe thead th {\n",
       "        text-align: right;\n",
       "    }\n",
       "</style>\n",
       "<table border=\"1\" class=\"dataframe\">\n",
       "  <thead>\n",
       "    <tr style=\"text-align: right;\">\n",
       "      <th></th>\n",
       "      <th>Newspaper</th>\n",
       "      <th>Radio</th>\n",
       "      <th>TV</th>\n",
       "    </tr>\n",
       "  </thead>\n",
       "  <tbody>\n",
       "    <tr>\n",
       "      <th>1</th>\n",
       "      <td>69.2</td>\n",
       "      <td>37.8</td>\n",
       "      <td>230.1</td>\n",
       "    </tr>\n",
       "    <tr>\n",
       "      <th>2</th>\n",
       "      <td>45.1</td>\n",
       "      <td>39.3</td>\n",
       "      <td>44.5</td>\n",
       "    </tr>\n",
       "    <tr>\n",
       "      <th>3</th>\n",
       "      <td>69.3</td>\n",
       "      <td>45.9</td>\n",
       "      <td>17.2</td>\n",
       "    </tr>\n",
       "    <tr>\n",
       "      <th>4</th>\n",
       "      <td>58.5</td>\n",
       "      <td>41.3</td>\n",
       "      <td>151.5</td>\n",
       "    </tr>\n",
       "    <tr>\n",
       "      <th>5</th>\n",
       "      <td>58.4</td>\n",
       "      <td>10.8</td>\n",
       "      <td>180.8</td>\n",
       "    </tr>\n",
       "  </tbody>\n",
       "</table>\n",
       "</div>"
      ],
      "text/plain": [
       "   Newspaper  Radio     TV\n",
       "1       69.2   37.8  230.1\n",
       "2       45.1   39.3   44.5\n",
       "3       69.3   45.9   17.2\n",
       "4       58.5   41.3  151.5\n",
       "5       58.4   10.8  180.8"
      ]
     },
     "execution_count": 37,
     "metadata": {},
     "output_type": "execute_result"
    }
   ],
   "source": [
    "# [View feature object]\n",
    "X_Feature.head()"
   ]
  },
  {
   "cell_type": "code",
   "execution_count": 38,
   "id": "764585ea-06b9-43e0-bcd2-70cc8dd86a56",
   "metadata": {},
   "outputs": [],
   "source": [
    "# [Create target object from sales column which is a response in the dataset]\n",
    "Y_Target = df_adv_data[['Sales']]"
   ]
  },
  {
   "cell_type": "code",
   "execution_count": 39,
   "id": "fb080604-acb4-4dc2-8fb4-1bd58c76a7cd",
   "metadata": {},
   "outputs": [
    {
     "data": {
      "text/html": [
       "<div>\n",
       "<style scoped>\n",
       "    .dataframe tbody tr th:only-of-type {\n",
       "        vertical-align: middle;\n",
       "    }\n",
       "\n",
       "    .dataframe tbody tr th {\n",
       "        vertical-align: top;\n",
       "    }\n",
       "\n",
       "    .dataframe thead th {\n",
       "        text-align: right;\n",
       "    }\n",
       "</style>\n",
       "<table border=\"1\" class=\"dataframe\">\n",
       "  <thead>\n",
       "    <tr style=\"text-align: right;\">\n",
       "      <th></th>\n",
       "      <th>Sales</th>\n",
       "    </tr>\n",
       "  </thead>\n",
       "  <tbody>\n",
       "    <tr>\n",
       "      <th>1</th>\n",
       "      <td>22.1</td>\n",
       "    </tr>\n",
       "    <tr>\n",
       "      <th>2</th>\n",
       "      <td>10.4</td>\n",
       "    </tr>\n",
       "    <tr>\n",
       "      <th>3</th>\n",
       "      <td>9.3</td>\n",
       "    </tr>\n",
       "    <tr>\n",
       "      <th>4</th>\n",
       "      <td>18.5</td>\n",
       "    </tr>\n",
       "    <tr>\n",
       "      <th>5</th>\n",
       "      <td>12.9</td>\n",
       "    </tr>\n",
       "  </tbody>\n",
       "</table>\n",
       "</div>"
      ],
      "text/plain": [
       "   Sales\n",
       "1   22.1\n",
       "2   10.4\n",
       "3    9.3\n",
       "4   18.5\n",
       "5   12.9"
      ]
     },
     "execution_count": 39,
     "metadata": {},
     "output_type": "execute_result"
    }
   ],
   "source": [
    "# [View the target object]\n",
    "Y_Target.head()"
   ]
  },
  {
   "cell_type": "code",
   "execution_count": 40,
   "id": "b1315f0f-a562-41b3-9ca1-767b4ee128f5",
   "metadata": {},
   "outputs": [
    {
     "data": {
      "text/plain": [
       "(200, 3)"
      ]
     },
     "execution_count": 40,
     "metadata": {},
     "output_type": "execute_result"
    }
   ],
   "source": [
    "# [View the shape of the feature object]\n",
    "X_Feature.shape"
   ]
  },
  {
   "cell_type": "code",
   "execution_count": 41,
   "id": "dc71ee52-6237-4796-903c-a8e16be8c4cf",
   "metadata": {},
   "outputs": [
    {
     "data": {
      "text/plain": [
       "(200, 1)"
      ]
     },
     "execution_count": 41,
     "metadata": {},
     "output_type": "execute_result"
    }
   ],
   "source": [
    "# [View the shape of the target object]\n",
    "Y_Target.shape"
   ]
  },
  {
   "cell_type": "code",
   "execution_count": 51,
   "id": "e3d6d041-5d63-4544-85e4-fa36ed165055",
   "metadata": {},
   "outputs": [],
   "source": [
    "# [Split Test and Training Data]\n",
    "# by default 75% training data and 25% testing data\n",
    "from sklearn.model_selection import train_test_split\n",
    "x_train, x_test, y_train, y_test = train_test_split(X_Feature, Y_Target, random_state = 1)"
   ]
  },
  {
   "cell_type": "code",
   "execution_count": 53,
   "id": "bc293c2a-bc73-4f2e-bb53-02fa83ccc947",
   "metadata": {},
   "outputs": [
    {
     "data": {
      "text/plain": [
       "(150, 3)"
      ]
     },
     "execution_count": 53,
     "metadata": {},
     "output_type": "execute_result"
    }
   ],
   "source": [
    "# [View shape of x_train]\n",
    "x_train.shape"
   ]
  },
  {
   "cell_type": "code",
   "execution_count": 54,
   "id": "90b4f2ac-9795-424e-8367-84e0ac293f5b",
   "metadata": {},
   "outputs": [
    {
     "data": {
      "text/plain": [
       "(50, 3)"
      ]
     },
     "execution_count": 54,
     "metadata": {},
     "output_type": "execute_result"
    }
   ],
   "source": [
    "# [View shape of x_test]\n",
    "x_test.shape"
   ]
  },
  {
   "cell_type": "code",
   "execution_count": 55,
   "id": "8875f009-36be-41a7-9d41-ca9567c238b5",
   "metadata": {},
   "outputs": [
    {
     "data": {
      "text/plain": [
       "(150, 1)"
      ]
     },
     "execution_count": 55,
     "metadata": {},
     "output_type": "execute_result"
    }
   ],
   "source": [
    "# [View shape of y_train]\n",
    "y_train.shape"
   ]
  },
  {
   "cell_type": "code",
   "execution_count": 57,
   "id": "6febfd13-93de-4732-b216-711cc162e10d",
   "metadata": {},
   "outputs": [
    {
     "data": {
      "text/plain": [
       "(50, 1)"
      ]
     },
     "execution_count": 57,
     "metadata": {},
     "output_type": "execute_result"
    }
   ],
   "source": [
    "# [View shape of y_test]\n",
    "y_test.shape"
   ]
  },
  {
   "cell_type": "code",
   "execution_count": 59,
   "id": "1d614f29-4ca8-487d-8f42-28509a96c38f",
   "metadata": {},
   "outputs": [],
   "source": [
    "# [Import the linear regression model]\n",
    "from sklearn.linear_model import LinearRegression"
   ]
  },
  {
   "cell_type": "code",
   "execution_count": 60,
   "id": "51456766-ecef-4424-89a3-ce3fbfe2d5a2",
   "metadata": {},
   "outputs": [],
   "source": [
    "# [Creating a linear regression object]\n",
    "linreg = LinearRegression()"
   ]
  },
  {
   "cell_type": "code",
   "execution_count": 61,
   "id": "a109a6dd-093e-418f-92cd-f8e590dcc543",
   "metadata": {},
   "outputs": [
    {
     "data": {
      "text/plain": [
       "LinearRegression()"
      ]
     },
     "execution_count": 61,
     "metadata": {},
     "output_type": "execute_result"
    }
   ],
   "source": [
    "# [Training the linreg]\n",
    "linreg.fit(x_train,y_train)"
   ]
  },
  {
   "cell_type": "code",
   "execution_count": 63,
   "id": "9f8ebc4c-2329-41b9-a132-42c7e279842c",
   "metadata": {},
   "outputs": [
    {
     "data": {
      "text/plain": [
       "array([2.87696662])"
      ]
     },
     "execution_count": 63,
     "metadata": {},
     "output_type": "execute_result"
    }
   ],
   "source": [
    "# [Printing the linreg intercept]\n",
    "linreg.intercept_"
   ]
  },
  {
   "cell_type": "code",
   "execution_count": 64,
   "id": "2221fdf9-f784-46cc-af43-940c3f25f765",
   "metadata": {},
   "outputs": [
    {
     "data": {
      "text/plain": [
       "array([[0.00345046, 0.17915812, 0.04656457]])"
      ]
     },
     "execution_count": 64,
     "metadata": {},
     "output_type": "execute_result"
    }
   ],
   "source": [
    "# [Printing the linreg coefficient]\n",
    "linreg.coef_"
   ]
  },
  {
   "cell_type": "code",
   "execution_count": 83,
   "id": "d4124b46-b4ea-478a-aa1c-310194ab7bfd",
   "metadata": {},
   "outputs": [],
   "source": [
    "# [Prediction]\n",
    "y_pred = linreg.predict(x_test)"
   ]
  },
  {
   "cell_type": "code",
   "execution_count": 84,
   "id": "cf52d6ba-8299-4085-a71c-7500da2227be",
   "metadata": {},
   "outputs": [
    {
     "name": "stdout",
     "output_type": "stream",
     "text": [
      "[[21.70910292]\n",
      " [16.41055243]\n",
      " [ 7.60955058]\n",
      " [17.80769552]\n",
      " [18.6146359 ]\n",
      " [23.83573998]\n",
      " [16.32488681]\n",
      " [13.43225536]\n",
      " [ 9.17173403]\n",
      " [17.333853  ]\n",
      " [14.44479482]\n",
      " [ 9.83511973]\n",
      " [17.18797614]\n",
      " [16.73086831]\n",
      " [15.05529391]\n",
      " [15.61434433]\n",
      " [12.42541574]\n",
      " [17.17716376]\n",
      " [11.08827566]\n",
      " [18.00537501]\n",
      " [ 9.28438889]\n",
      " [12.98458458]\n",
      " [ 8.79950614]\n",
      " [10.42382499]\n",
      " [11.3846456 ]\n",
      " [14.98082512]\n",
      " [ 9.78853268]\n",
      " [19.39643187]\n",
      " [18.18099936]\n",
      " [17.12807566]\n",
      " [21.54670213]\n",
      " [14.69809481]\n",
      " [16.24641438]\n",
      " [12.32114579]\n",
      " [19.92422501]\n",
      " [15.32498602]\n",
      " [13.88726522]\n",
      " [10.03162255]\n",
      " [20.93105915]\n",
      " [ 7.44936831]\n",
      " [ 3.64695761]\n",
      " [ 7.22020178]\n",
      " [ 5.9962782 ]\n",
      " [18.43381853]\n",
      " [ 8.39408045]\n",
      " [14.08371047]\n",
      " [15.02195699]\n",
      " [20.35836418]\n",
      " [20.57036347]\n",
      " [19.60636679]]\n"
     ]
    }
   ],
   "source": [
    "# [Pringing the Predicted Values]\n",
    "print(y_pred)"
   ]
  },
  {
   "cell_type": "code",
   "execution_count": 91,
   "id": "591e2cf9-cdbc-4a2c-b872-545c0ec732dc",
   "metadata": {},
   "outputs": [],
   "source": [
    "# [Importing the libraries to calculate the mean squared error]\n",
    "from sklearn import metrics\n",
    "import numpy as np"
   ]
  },
  {
   "cell_type": "code",
   "execution_count": 93,
   "id": "d1bbbc9b-9ff1-417f-900c-037f7a96a96c",
   "metadata": {},
   "outputs": [],
   "source": [
    "# [Calculating the mean squared error]\n",
    "from sklearn.metrics import mean_squared_error\n",
    "\n",
    "rms = np.sqrt(mean_squared_error(y_test, y_pred, squared=False))"
   ]
  },
  {
   "cell_type": "code",
   "execution_count": 95,
   "id": "42575859-f85c-4b34-bc0b-9c8cbfc6fb60",
   "metadata": {},
   "outputs": [
    {
     "data": {
      "text/plain": [
       "1.1851799116728623"
      ]
     },
     "execution_count": 95,
     "metadata": {},
     "output_type": "execute_result"
    }
   ],
   "source": [
    "# [Displaying the value of rms]\n",
    "rms"
   ]
  },
  {
   "cell_type": "code",
   "execution_count": null,
   "id": "46cac142-ca16-450f-bf85-04ffb774348b",
   "metadata": {},
   "outputs": [],
   "source": []
  }
 ],
 "metadata": {
  "kernelspec": {
   "display_name": "Python 3 (ipykernel)",
   "language": "python",
   "name": "python3"
  },
  "language_info": {
   "codemirror_mode": {
    "name": "ipython",
    "version": 3
   },
   "file_extension": ".py",
   "mimetype": "text/x-python",
   "name": "python",
   "nbconvert_exporter": "python",
   "pygments_lexer": "ipython3",
   "version": "3.9.12"
  }
 },
 "nbformat": 4,
 "nbformat_minor": 5
}
