{
 "cells": [
  {
   "cell_type": "code",
   "execution_count": 3,
   "id": "7dcd2a2b-a722-4df5-a6d4-408d27ee6e50",
   "metadata": {},
   "outputs": [],
   "source": [
    "import pandas as pd\n",
    "import numpy as np"
   ]
  },
  {
   "cell_type": "code",
   "execution_count": 4,
   "id": "bf4f8648-ea6d-4f3f-b3a7-179c6d3f1f0f",
   "metadata": {},
   "outputs": [
    {
     "name": "stdout",
     "output_type": "stream",
     "text": [
      "An Introduction to Pandas\n",
      "Advantages of using Pandas are as follows : \n",
      "[1] intrinsic data alignment\n",
      "[2] data operation functions\n",
      "[3] functions to handle missing data values\n",
      "[4] data standardization functions\n",
      "[5] data structures handling major use cases\n"
     ]
    }
   ],
   "source": [
    "# [INTRODUCTION TO PANDAS]\n",
    "print(\"An Introduction to Pandas\")\n",
    "print(\"Advantages of using Pandas are as follows : \")\n",
    "print(\"[1] intrinsic data alignment\")\n",
    "print(\"[2] data operation functions\")\n",
    "print(\"[3] functions to handle missing data values\")\n",
    "print(\"[4] data standardization functions\")\n",
    "print(\"[5] data structures handling major use cases\")"
   ]
  },
  {
   "cell_type": "code",
   "execution_count": 5,
   "id": "4f656ff0-cf14-4d52-b1b6-81a9a1896fa8",
   "metadata": {},
   "outputs": [
    {
     "name": "stdout",
     "output_type": "stream",
     "text": [
      "Powerful Features of Pandas\n",
      "[1] powerful data structures.\n",
      "[2] fast and efficient data wrangling.\n",
      "[3] easy data aggregation and transformation.\n",
      "[4] tools for reading and writing data.\n",
      "[5] intelligent and automated data alignment.\n",
      "[6] high performance merging and joining of data sets.\n"
     ]
    }
   ],
   "source": [
    "# [POWERFUL FEATURES OF PANDAS]\n",
    "print(\"Powerful Features of Pandas\")\n",
    "print(\"[1] powerful data structures.\\n[2] fast and efficient data wrangling.\\n[3] easy data aggregation and transformation.\\n[4] tools for reading and writing data.\\n[5] intelligent and automated data alignment.\\n[6] high performance merging and joining of data sets.\")"
   ]
  },
  {
   "cell_type": "code",
   "execution_count": 6,
   "id": "4fa0603d-ebba-4db7-bfa4-b4555882ee5e",
   "metadata": {},
   "outputs": [
    {
     "name": "stdout",
     "output_type": "stream",
     "text": [
      "Types of Data Structures used in Pandas\n",
      "There are 4 key types of data structures in Pandas.\n",
      "{'[1] Series': 'One dimensional labeled array. Supports multiple data types.', '[2] Data Frame': 'Two dimensional labeled array. Supports multiple data types. Input can be a series. Input can be another dataframe', '[3] Panel': 'Three dimensional labeled array. Supports multiple data types. Items -> axis 0. Major axis -> rows. Minor axis -> columns', '[4] Panel 4D (Experimental)': 'Four dimensional labeled array. Supports multiple data types. Labels -> axis 0. Items -> axis -> 1. Major axis -> rows. Minor axis -> columns.'}\n"
     ]
    }
   ],
   "source": [
    "# [DATA STRUCTURES IN PANDAS]\n",
    "print(\"Types of Data Structures used in Pandas\")\n",
    "# using a dictionary to store the different types of Data Structures in Pandas.\n",
    "data_structures_in_pandas = {\n",
    "    \"[1] Series\":\"One dimensional labeled array. Supports multiple data types.\",\n",
    "    \"[2] Data Frame\":\"Two dimensional labeled array. Supports multiple data types. Input can be a series. Input can be another dataframe\",\n",
    "    \"[3] Panel\": \"Three dimensional labeled array. Supports multiple data types. Items -> axis 0. Major axis -> rows. Minor axis -> columns\",\n",
    "    \"[4] Panel 4D (Experimental)\":\"Four dimensional labeled array. Supports multiple data types. Labels -> axis 0. Items -> axis -> 1. Major axis -> rows. Minor axis -> columns.\"\n",
    "}\n",
    "print(\"There are \"+str(len(data_structures_in_pandas))+\" key types of data structures in Pandas.\")\n",
    "print(data_structures_in_pandas)"
   ]
  },
  {
   "cell_type": "code",
   "execution_count": 7,
   "id": "8453c7a4-9df2-4083-a2bb-7ba3a58388b7",
   "metadata": {},
   "outputs": [
    {
     "name": "stdout",
     "output_type": "stream",
     "text": [
      "Pandas can be used to read data from multiple file types.\n",
      "('read_excel_to_excel : xlxs', 'read_hdf_to_hdf : hdf', 'read_html_to_html : html')\n",
      "and so on...\n"
     ]
    }
   ],
   "source": [
    "# [READING FILES IN PANDAS]\n",
    "print(\"Pandas can be used to read data from multiple file types.\")\n",
    "supported_file_types = ('read_excel_to_excel : xlxs','read_hdf_to_hdf : hdf','read_html_to_html : html')\n",
    "print(supported_file_types)\n",
    "print(\"and so on...\")"
   ]
  },
  {
   "cell_type": "code",
   "execution_count": 8,
   "id": "21707ad2-885c-40ec-b388-9d4daba446e2",
   "metadata": {},
   "outputs": [],
   "source": [
    "# [INTRODUCTION TO SERIES IN PANDAS]\n",
    "# [1] Series can be created with different data inputs.\n",
    "# Data Types - Integer, String, Python Object, Floating Point\n",
    "# [2] Data Inputs - ndarray, dict, scalar, list\n",
    "# [3] Label (index)"
   ]
  },
  {
   "cell_type": "code",
   "execution_count": 9,
   "id": "70a50015-0fa0-401d-93bc-36ee99ea1003",
   "metadata": {},
   "outputs": [],
   "source": [
    "# [HOW TO CREATE A SERIES]\n",
    "# first step is to import pandas\n",
    "# import pandas as pd\n",
    "# import numpy as np"
   ]
  },
  {
   "cell_type": "code",
   "execution_count": 10,
   "id": "f2317572-f421-4f1b-a89e-8008a386e932",
   "metadata": {},
   "outputs": [],
   "source": [
    "# [CREATING A SERIES]\n",
    "first_series = pd.Series(list('abcdef'))"
   ]
  },
  {
   "cell_type": "code",
   "execution_count": 11,
   "id": "dddb6415-0d45-470c-af87-819bec475a1d",
   "metadata": {},
   "outputs": [
    {
     "name": "stdout",
     "output_type": "stream",
     "text": [
      "0    a\n",
      "1    b\n",
      "2    c\n",
      "3    d\n",
      "4    e\n",
      "5    f\n",
      "dtype: object\n"
     ]
    }
   ],
   "source": [
    "# [PRINTING THE SERIES]\n",
    "print(first_series)"
   ]
  },
  {
   "cell_type": "code",
   "execution_count": 12,
   "id": "7071117f-8415-410c-96b1-ee37168e630b",
   "metadata": {},
   "outputs": [],
   "source": [
    "# [CREATING A SERIES FROM AN ndarray]\n",
    "np_animals = np.array(['cat','dog','leopard','goose','rabbit','tortoise','lemur','puma','python','alligator'])\n",
    "series_animals = pd.Series(np_animals)"
   ]
  },
  {
   "cell_type": "code",
   "execution_count": 13,
   "id": "0262b1aa-9ae8-4c09-baad-aeaca666c93a",
   "metadata": {},
   "outputs": [
    {
     "name": "stdout",
     "output_type": "stream",
     "text": [
      "0          cat\n",
      "1          dog\n",
      "2      leopard\n",
      "3        goose\n",
      "4       rabbit\n",
      "5     tortoise\n",
      "6        lemur\n",
      "7         puma\n",
      "8       python\n",
      "9    alligator\n",
      "dtype: object\n"
     ]
    }
   ],
   "source": [
    "# [PRINTING THE ABOVE SERIES]\n",
    "print(series_animals)"
   ]
  },
  {
   "cell_type": "code",
   "execution_count": 14,
   "id": "242ee670-ee6e-48e2-aa10-44758b92df06",
   "metadata": {},
   "outputs": [],
   "source": [
    "# [CREATING A SERIES WITH DICT DATA INPUT FOR FASTER OPERATION]\n",
    "dict_animal_life_span = pd.Series([8,14,25,8,5,120,40,30,19,25], index = ['cat','dog','leopard','goose','rabbit','tortoise','lemur','puma','python','alligator'])"
   ]
  },
  {
   "cell_type": "code",
   "execution_count": 15,
   "id": "50b77baa-1e46-4bb1-b3a6-70cc2fbdb744",
   "metadata": {},
   "outputs": [
    {
     "name": "stdout",
     "output_type": "stream",
     "text": [
      "cat            8\n",
      "dog           14\n",
      "leopard       25\n",
      "goose          8\n",
      "rabbit         5\n",
      "tortoise     120\n",
      "lemur         40\n",
      "puma          30\n",
      "python        19\n",
      "alligator     25\n",
      "dtype: int64\n"
     ]
    }
   ],
   "source": [
    "# [PRINTING THE ABOVE SERIES]\n",
    "print(dict_animal_life_span)"
   ]
  },
  {
   "cell_type": "code",
   "execution_count": 16,
   "id": "7825a276-2874-490b-8f36-9ec4e87c1848",
   "metadata": {},
   "outputs": [
    {
     "data": {
      "text/plain": [
       "a    5.0\n",
       "b    5.0\n",
       "c    5.0\n",
       "d    5.0\n",
       "e    5.0\n",
       "f    5.0\n",
       "dtype: float64"
      ]
     },
     "execution_count": 16,
     "metadata": {},
     "output_type": "execute_result"
    }
   ],
   "source": [
    "# [PRINT SERIES WITH SCALAR INPUT]\n",
    "scalar_series = pd.Series(5.,index = ['a','b','c','d','e','f'])\n",
    "scalar_series"
   ]
  },
  {
   "cell_type": "code",
   "execution_count": 17,
   "id": "d9249265-01a3-4f56-a249-8fe152549828",
   "metadata": {},
   "outputs": [
    {
     "name": "stdout",
     "output_type": "stream",
     "text": [
      "a    5.0\n",
      "b    5.0\n",
      "c    5.0\n",
      "d    5.0\n",
      "e    5.0\n",
      "f    5.0\n",
      "dtype: float64\n"
     ]
    }
   ],
   "source": [
    "# [PRINTING THE ABOVE SERIES WITH PRINT FUNCTION]\n",
    "print(scalar_series)"
   ]
  },
  {
   "cell_type": "code",
   "execution_count": 18,
   "id": "07dc9cd7-f242-4c24-a629-88b2299aed85",
   "metadata": {},
   "outputs": [
    {
     "data": {
      "text/plain": [
       "8"
      ]
     },
     "execution_count": 18,
     "metadata": {},
     "output_type": "execute_result"
    }
   ],
   "source": [
    "# [ACCESSING ELEMENTS IN A SERIES]\n",
    "dict_animal_life_span[0]"
   ]
  },
  {
   "cell_type": "code",
   "execution_count": 19,
   "id": "c5e3b7cd-3d74-40f4-b848-b3c9666d98ea",
   "metadata": {},
   "outputs": [
    {
     "data": {
      "text/plain": [
       "cat         8\n",
       "dog        14\n",
       "leopard    25\n",
       "goose       8\n",
       "rabbit      5\n",
       "dtype: int64"
      ]
     },
     "execution_count": 19,
     "metadata": {},
     "output_type": "execute_result"
    }
   ],
   "source": [
    "# [ACCESS FIRST 5 ELEMENTS]\n",
    "dict_animal_life_span[0:5]"
   ]
  },
  {
   "cell_type": "code",
   "execution_count": 20,
   "id": "fd7db055-f018-4911-9f86-3b3bab5e66c9",
   "metadata": {},
   "outputs": [
    {
     "data": {
      "text/plain": [
       "25"
      ]
     },
     "execution_count": 20,
     "metadata": {},
     "output_type": "execute_result"
    }
   ],
   "source": [
    "# [LOOKUP AN ANIMAL BY NAME OR INDEX]\n",
    "dict_animal_life_span.loc['leopard']"
   ]
  },
  {
   "cell_type": "code",
   "execution_count": 21,
   "id": "e0a80809-39f2-48af-9650-55296fcacc62",
   "metadata": {},
   "outputs": [
    {
     "data": {
      "text/plain": [
       "5"
      ]
     },
     "execution_count": 21,
     "metadata": {},
     "output_type": "execute_result"
    }
   ],
   "source": [
    "# [LOOKUP AN ANIMAL BY POSITION] : Returns value for Rabbit\n",
    "dict_animal_life_span.iloc[4]"
   ]
  },
  {
   "cell_type": "code",
   "execution_count": 22,
   "id": "72dd08e7-3588-41e2-ae5d-04a4601ee5c1",
   "metadata": {},
   "outputs": [],
   "source": [
    "# [VECTORIZED OPERATIONS IN SERIES]\n",
    "first_vector_series = pd.Series([1,2,3,4,5],index = ['a','b','c','d','e'])\n",
    "second_vector_series = pd.Series([11,22,33,44,55],index = ['a','b','c','d','ee'])"
   ]
  },
  {
   "cell_type": "code",
   "execution_count": 23,
   "id": "c2230377-2491-4eeb-b68e-d4f1c985c0cd",
   "metadata": {},
   "outputs": [
    {
     "data": {
      "text/plain": [
       "a     12.0\n",
       "b     24.0\n",
       "c     36.0\n",
       "d     48.0\n",
       "e      NaN\n",
       "ee     NaN\n",
       "dtype: float64"
      ]
     },
     "execution_count": 23,
     "metadata": {},
     "output_type": "execute_result"
    }
   ],
   "source": [
    "first_vector_series + second_vector_series"
   ]
  },
  {
   "cell_type": "code",
   "execution_count": 24,
   "id": "f1eefde0-69bf-49d2-b904-3d7955a28d07",
   "metadata": {},
   "outputs": [],
   "source": [
    "# [INTRODUCTION TO DATA FRAMES IN PANDAS]"
   ]
  },
  {
   "cell_type": "code",
   "execution_count": 25,
   "id": "eb7d3441-12cc-42ff-8556-543f01016c6c",
   "metadata": {},
   "outputs": [
    {
     "name": "stdout",
     "output_type": "stream",
     "text": [
      "Do you know the definition of a Data Frame? (y/n)  y\n"
     ]
    },
    {
     "name": "stdout",
     "output_type": "stream",
     "text": [
      "that is great\n"
     ]
    }
   ],
   "source": [
    "# [DO YOU KNOW THE DEFINITION OF A DATA FRAME?]\n",
    "user_input = input(\"Do you know the definition of a Data Frame? (y/n) \")\n",
    "\n",
    "if user_input == 'y':\n",
    "    print(\"that is great\")\n",
    "elif user_input == 'n':\n",
    "    print(\"[DATA FRAME] A data frame is a two dimensional labeled data structure with columns of potentially different data types.\")"
   ]
  },
  {
   "cell_type": "code",
   "execution_count": 30,
   "id": "820e86c5-b5fc-47ec-887e-28db21395bb6",
   "metadata": {},
   "outputs": [],
   "source": [
    "# [CREATE A DATA FRAME USING LISTS]\n",
    "cricket_world_cup_list = {\n",
    "    'Host Country':['India','West Indies', 'Australia', 'New Zealand', 'South Africa', 'Pakistan', 'West Indies'],\n",
    "    'Year':[1979, 1983, 1987, 1991, 1995, 2000, 2004],\n",
    "    'Winner':['West Indies', 'Australia', 'England', 'Australia', 'India', 'Pakistan', 'South Africa'],\n",
    "    'RunnerUp':['India', 'Sri Lanka', 'Pakistan', 'West Indies', 'Pakistan', 'England', 'Bangladesh'],\n",
    "    'Number of Countries':[8,10,12,12,10,11,12]\n",
    "}"
   ]
  },
  {
   "cell_type": "code",
   "execution_count": 31,
   "id": "9048b459-0099-4a20-80da-85a12ee34ec8",
   "metadata": {},
   "outputs": [
    {
     "name": "stdout",
     "output_type": "stream",
     "text": [
      "{'Host Country': ['India', 'West Indies', 'Australia', 'New Zealand', 'South Africa', 'Pakistan', 'West Indies'], 'Year': [1979, 1983, 1987, 1991, 1995, 2000, 2004], 'Winner': ['West Indies', 'Australia', 'England', 'Australia', 'India', 'Pakistan', 'South Africa'], 'RunnerUp': ['India', 'Sri Lanka', 'Pakistan', 'West Indies', 'Pakistan', 'England', 'Bangladesh'], 'Number of Countries': [8, 10, 12, 12, 10, 11, 12]}\n"
     ]
    }
   ],
   "source": [
    "# [PRINTING THE LIST ABOVE]\n",
    "print(cricket_world_cup_list)"
   ]
  },
  {
   "cell_type": "code",
   "execution_count": 32,
   "id": "a8a6ffa7-93c3-4a94-afb0-ffbc316d4ec4",
   "metadata": {},
   "outputs": [],
   "source": [
    "#[CREATING A DATA FRAME FROM THE ABOVE LIST]\n",
    "data_frame_cricket_world_cup_data = pd.DataFrame(cricket_world_cup_list)"
   ]
  },
  {
   "cell_type": "code",
   "execution_count": 33,
   "id": "e4574420-aeec-43b8-8207-ba4296c8ee1f",
   "metadata": {},
   "outputs": [
    {
     "data": {
      "text/html": [
       "<div>\n",
       "<style scoped>\n",
       "    .dataframe tbody tr th:only-of-type {\n",
       "        vertical-align: middle;\n",
       "    }\n",
       "\n",
       "    .dataframe tbody tr th {\n",
       "        vertical-align: top;\n",
       "    }\n",
       "\n",
       "    .dataframe thead th {\n",
       "        text-align: right;\n",
       "    }\n",
       "</style>\n",
       "<table border=\"1\" class=\"dataframe\">\n",
       "  <thead>\n",
       "    <tr style=\"text-align: right;\">\n",
       "      <th></th>\n",
       "      <th>Host Country</th>\n",
       "      <th>Year</th>\n",
       "      <th>Winner</th>\n",
       "      <th>RunnerUp</th>\n",
       "      <th>Number of Countries</th>\n",
       "    </tr>\n",
       "  </thead>\n",
       "  <tbody>\n",
       "    <tr>\n",
       "      <th>0</th>\n",
       "      <td>India</td>\n",
       "      <td>1979</td>\n",
       "      <td>West Indies</td>\n",
       "      <td>India</td>\n",
       "      <td>8</td>\n",
       "    </tr>\n",
       "    <tr>\n",
       "      <th>1</th>\n",
       "      <td>West Indies</td>\n",
       "      <td>1983</td>\n",
       "      <td>Australia</td>\n",
       "      <td>Sri Lanka</td>\n",
       "      <td>10</td>\n",
       "    </tr>\n",
       "    <tr>\n",
       "      <th>2</th>\n",
       "      <td>Australia</td>\n",
       "      <td>1987</td>\n",
       "      <td>England</td>\n",
       "      <td>Pakistan</td>\n",
       "      <td>12</td>\n",
       "    </tr>\n",
       "    <tr>\n",
       "      <th>3</th>\n",
       "      <td>New Zealand</td>\n",
       "      <td>1991</td>\n",
       "      <td>Australia</td>\n",
       "      <td>West Indies</td>\n",
       "      <td>12</td>\n",
       "    </tr>\n",
       "    <tr>\n",
       "      <th>4</th>\n",
       "      <td>South Africa</td>\n",
       "      <td>1995</td>\n",
       "      <td>India</td>\n",
       "      <td>Pakistan</td>\n",
       "      <td>10</td>\n",
       "    </tr>\n",
       "    <tr>\n",
       "      <th>5</th>\n",
       "      <td>Pakistan</td>\n",
       "      <td>2000</td>\n",
       "      <td>Pakistan</td>\n",
       "      <td>England</td>\n",
       "      <td>11</td>\n",
       "    </tr>\n",
       "    <tr>\n",
       "      <th>6</th>\n",
       "      <td>West Indies</td>\n",
       "      <td>2004</td>\n",
       "      <td>South Africa</td>\n",
       "      <td>Bangladesh</td>\n",
       "      <td>12</td>\n",
       "    </tr>\n",
       "  </tbody>\n",
       "</table>\n",
       "</div>"
      ],
      "text/plain": [
       "   Host Country  Year        Winner     RunnerUp  Number of Countries\n",
       "0         India  1979   West Indies        India                    8\n",
       "1   West Indies  1983     Australia    Sri Lanka                   10\n",
       "2     Australia  1987       England     Pakistan                   12\n",
       "3   New Zealand  1991     Australia  West Indies                   12\n",
       "4  South Africa  1995         India     Pakistan                   10\n",
       "5      Pakistan  2000      Pakistan      England                   11\n",
       "6   West Indies  2004  South Africa   Bangladesh                   12"
      ]
     },
     "execution_count": 33,
     "metadata": {},
     "output_type": "execute_result"
    }
   ],
   "source": [
    "# [DISPLAYING THE DATA FRAME] - and w\n",
    "data_frame_cricket_world_cup_data"
   ]
  },
  {
   "cell_type": "code",
   "execution_count": 37,
   "id": "62c4c219-b941-4190-8f94-be8d8c4aeb01",
   "metadata": {},
   "outputs": [
    {
     "name": "stdout",
     "output_type": "stream",
     "text": [
      "   Host Country  Year        Winner     RunnerUp  Number of Countries\n",
      "0         India  1979   West Indies        India                    8\n",
      "1   West Indies  1983     Australia    Sri Lanka                   10\n",
      "2     Australia  1987       England     Pakistan                   12\n",
      "3   New Zealand  1991     Australia  West Indies                   12\n",
      "4  South Africa  1995         India     Pakistan                   10\n",
      "5      Pakistan  2000      Pakistan      England                   11\n",
      "6   West Indies  2004  South Africa   Bangladesh                   12\n"
     ]
    }
   ],
   "source": [
    "# [USING THE PRINT FUNCTION TO DISPLAY THE DATA FRAME] - It's not as neat\n",
    "print(data_frame_cricket_world_cup_data)"
   ]
  },
  {
   "cell_type": "code",
   "execution_count": 36,
   "id": "5c6f6b1c-7f42-40bd-b47f-589497a7decb",
   "metadata": {},
   "outputs": [
    {
     "data": {
      "text/html": [
       "<div>\n",
       "<style scoped>\n",
       "    .dataframe tbody tr th:only-of-type {\n",
       "        vertical-align: middle;\n",
       "    }\n",
       "\n",
       "    .dataframe tbody tr th {\n",
       "        vertical-align: top;\n",
       "    }\n",
       "\n",
       "    .dataframe thead th {\n",
       "        text-align: right;\n",
       "    }\n",
       "</style>\n",
       "<table border=\"1\" class=\"dataframe\">\n",
       "  <thead>\n",
       "    <tr style=\"text-align: right;\">\n",
       "      <th></th>\n",
       "      <th>Year</th>\n",
       "      <th>Number of Countries</th>\n",
       "    </tr>\n",
       "  </thead>\n",
       "  <tbody>\n",
       "    <tr>\n",
       "      <th>count</th>\n",
       "      <td>7.000000</td>\n",
       "      <td>7.000000</td>\n",
       "    </tr>\n",
       "    <tr>\n",
       "      <th>mean</th>\n",
       "      <td>1991.285714</td>\n",
       "      <td>10.714286</td>\n",
       "    </tr>\n",
       "    <tr>\n",
       "      <th>std</th>\n",
       "      <td>9.031690</td>\n",
       "      <td>1.496026</td>\n",
       "    </tr>\n",
       "    <tr>\n",
       "      <th>min</th>\n",
       "      <td>1979.000000</td>\n",
       "      <td>8.000000</td>\n",
       "    </tr>\n",
       "    <tr>\n",
       "      <th>25%</th>\n",
       "      <td>1985.000000</td>\n",
       "      <td>10.000000</td>\n",
       "    </tr>\n",
       "    <tr>\n",
       "      <th>50%</th>\n",
       "      <td>1991.000000</td>\n",
       "      <td>11.000000</td>\n",
       "    </tr>\n",
       "    <tr>\n",
       "      <th>75%</th>\n",
       "      <td>1997.500000</td>\n",
       "      <td>12.000000</td>\n",
       "    </tr>\n",
       "    <tr>\n",
       "      <th>max</th>\n",
       "      <td>2004.000000</td>\n",
       "      <td>12.000000</td>\n",
       "    </tr>\n",
       "  </tbody>\n",
       "</table>\n",
       "</div>"
      ],
      "text/plain": [
       "              Year  Number of Countries\n",
       "count     7.000000             7.000000\n",
       "mean   1991.285714            10.714286\n",
       "std       9.031690             1.496026\n",
       "min    1979.000000             8.000000\n",
       "25%    1985.000000            10.000000\n",
       "50%    1991.000000            11.000000\n",
       "75%    1997.500000            12.000000\n",
       "max    2004.000000            12.000000"
      ]
     },
     "execution_count": 36,
     "metadata": {},
     "output_type": "execute_result"
    }
   ],
   "source": [
    "data_frame_cricket_world_cup_data.describe()"
   ]
  },
  {
   "cell_type": "code",
   "execution_count": 38,
   "id": "41d3c56b-61fe-4894-bfa7-a967aa482e98",
   "metadata": {},
   "outputs": [],
   "source": [
    "# [CREATING A ND ARRAY IN NUMPY]\n",
    "# import numpy as np - is needed. \n",
    "np_array = np.array([2020,2019,2018,2017])\n",
    "dict_ndarray = {'year': np_array}"
   ]
  },
  {
   "cell_type": "code",
   "execution_count": 39,
   "id": "1db0e168-f4d2-48c1-a2e8-dacd54b47a2b",
   "metadata": {},
   "outputs": [],
   "source": [
    "# [CREATING A DATA FRAME FROM AN NDARRAY]\n",
    "df_ndarray = pd.DataFrame(dict_ndarray)"
   ]
  },
  {
   "cell_type": "code",
   "execution_count": 40,
   "id": "7c62ecbd-b294-4cd6-8061-cc0aa14b43e5",
   "metadata": {},
   "outputs": [
    {
     "data": {
      "text/html": [
       "<div>\n",
       "<style scoped>\n",
       "    .dataframe tbody tr th:only-of-type {\n",
       "        vertical-align: middle;\n",
       "    }\n",
       "\n",
       "    .dataframe tbody tr th {\n",
       "        vertical-align: top;\n",
       "    }\n",
       "\n",
       "    .dataframe thead th {\n",
       "        text-align: right;\n",
       "    }\n",
       "</style>\n",
       "<table border=\"1\" class=\"dataframe\">\n",
       "  <thead>\n",
       "    <tr style=\"text-align: right;\">\n",
       "      <th></th>\n",
       "      <th>year</th>\n",
       "    </tr>\n",
       "  </thead>\n",
       "  <tbody>\n",
       "    <tr>\n",
       "      <th>0</th>\n",
       "      <td>2020</td>\n",
       "    </tr>\n",
       "    <tr>\n",
       "      <th>1</th>\n",
       "      <td>2019</td>\n",
       "    </tr>\n",
       "    <tr>\n",
       "      <th>2</th>\n",
       "      <td>2018</td>\n",
       "    </tr>\n",
       "    <tr>\n",
       "      <th>3</th>\n",
       "      <td>2017</td>\n",
       "    </tr>\n",
       "  </tbody>\n",
       "</table>\n",
       "</div>"
      ],
      "text/plain": [
       "   year\n",
       "0  2020\n",
       "1  2019\n",
       "2  2018\n",
       "3  2017"
      ]
     },
     "execution_count": 40,
     "metadata": {},
     "output_type": "execute_result"
    }
   ],
   "source": [
    "# [DISPLAYING OUR DATA FRAME WITHOUT PRINT FUNCTION]\n",
    "df_ndarray"
   ]
  },
  {
   "cell_type": "code",
   "execution_count": 41,
   "id": "7d36c2c9-ac4f-41bd-95da-9835321e4d5b",
   "metadata": {},
   "outputs": [],
   "source": [
    "# [CREATING A DATA FRAME FROM ANOTHER DATA FRAME]\n",
    "df_from_df = pd.DataFrame(data_frame_cricket_world_cup_data)"
   ]
  },
  {
   "cell_type": "code",
   "execution_count": 42,
   "id": "10ab7576-a1fd-4fdc-8029-4ce630368294",
   "metadata": {},
   "outputs": [
    {
     "data": {
      "text/html": [
       "<div>\n",
       "<style scoped>\n",
       "    .dataframe tbody tr th:only-of-type {\n",
       "        vertical-align: middle;\n",
       "    }\n",
       "\n",
       "    .dataframe tbody tr th {\n",
       "        vertical-align: top;\n",
       "    }\n",
       "\n",
       "    .dataframe thead th {\n",
       "        text-align: right;\n",
       "    }\n",
       "</style>\n",
       "<table border=\"1\" class=\"dataframe\">\n",
       "  <thead>\n",
       "    <tr style=\"text-align: right;\">\n",
       "      <th></th>\n",
       "      <th>Host Country</th>\n",
       "      <th>Year</th>\n",
       "      <th>Winner</th>\n",
       "      <th>RunnerUp</th>\n",
       "      <th>Number of Countries</th>\n",
       "    </tr>\n",
       "  </thead>\n",
       "  <tbody>\n",
       "    <tr>\n",
       "      <th>0</th>\n",
       "      <td>India</td>\n",
       "      <td>1979</td>\n",
       "      <td>West Indies</td>\n",
       "      <td>India</td>\n",
       "      <td>8</td>\n",
       "    </tr>\n",
       "    <tr>\n",
       "      <th>1</th>\n",
       "      <td>West Indies</td>\n",
       "      <td>1983</td>\n",
       "      <td>Australia</td>\n",
       "      <td>Sri Lanka</td>\n",
       "      <td>10</td>\n",
       "    </tr>\n",
       "    <tr>\n",
       "      <th>2</th>\n",
       "      <td>Australia</td>\n",
       "      <td>1987</td>\n",
       "      <td>England</td>\n",
       "      <td>Pakistan</td>\n",
       "      <td>12</td>\n",
       "    </tr>\n",
       "    <tr>\n",
       "      <th>3</th>\n",
       "      <td>New Zealand</td>\n",
       "      <td>1991</td>\n",
       "      <td>Australia</td>\n",
       "      <td>West Indies</td>\n",
       "      <td>12</td>\n",
       "    </tr>\n",
       "    <tr>\n",
       "      <th>4</th>\n",
       "      <td>South Africa</td>\n",
       "      <td>1995</td>\n",
       "      <td>India</td>\n",
       "      <td>Pakistan</td>\n",
       "      <td>10</td>\n",
       "    </tr>\n",
       "    <tr>\n",
       "      <th>5</th>\n",
       "      <td>Pakistan</td>\n",
       "      <td>2000</td>\n",
       "      <td>Pakistan</td>\n",
       "      <td>England</td>\n",
       "      <td>11</td>\n",
       "    </tr>\n",
       "    <tr>\n",
       "      <th>6</th>\n",
       "      <td>West Indies</td>\n",
       "      <td>2004</td>\n",
       "      <td>South Africa</td>\n",
       "      <td>Bangladesh</td>\n",
       "      <td>12</td>\n",
       "    </tr>\n",
       "  </tbody>\n",
       "</table>\n",
       "</div>"
      ],
      "text/plain": [
       "   Host Country  Year        Winner     RunnerUp  Number of Countries\n",
       "0         India  1979   West Indies        India                    8\n",
       "1   West Indies  1983     Australia    Sri Lanka                   10\n",
       "2     Australia  1987       England     Pakistan                   12\n",
       "3   New Zealand  1991     Australia  West Indies                   12\n",
       "4  South Africa  1995         India     Pakistan                   10\n",
       "5      Pakistan  2000      Pakistan      England                   11\n",
       "6   West Indies  2004  South Africa   Bangladesh                   12"
      ]
     },
     "execution_count": 42,
     "metadata": {},
     "output_type": "execute_result"
    }
   ],
   "source": [
    "# [DISPLAYING OUR DATA FRAME MADE FROM DATAFRAME]\n",
    "df_from_df"
   ]
  },
  {
   "cell_type": "code",
   "execution_count": null,
   "id": "5589f7f6-6f0b-4ab5-8e3b-a54ff8cc7078",
   "metadata": {},
   "outputs": [],
   "source": []
  }
 ],
 "metadata": {
  "kernelspec": {
   "display_name": "Python 3 (ipykernel)",
   "language": "python",
   "name": "python3"
  },
  "language_info": {
   "codemirror_mode": {
    "name": "ipython",
    "version": 3
   },
   "file_extension": ".py",
   "mimetype": "text/x-python",
   "name": "python",
   "nbconvert_exporter": "python",
   "pygments_lexer": "ipython3",
   "version": "3.9.12"
  }
 },
 "nbformat": 4,
 "nbformat_minor": 5
}
