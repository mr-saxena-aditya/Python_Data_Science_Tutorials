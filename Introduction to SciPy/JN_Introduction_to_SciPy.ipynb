{
 "cells": [
  {
   "cell_type": "code",
   "execution_count": 2,
   "id": "c23df045-bb06-4560-ae62-696130288b12",
   "metadata": {},
   "outputs": [],
   "source": [
    "################################################################################################################################\n",
    "# INTRODUCTION TO SCIPY\n",
    "# Import the package linagl from the SciPy Library \n",
    "# - and -\n",
    "# use the solve method to solve the provided linear equation to find the value of x and y\n",
    "################################################################################################################################"
   ]
  },
  {
   "cell_type": "code",
   "execution_count": 12,
   "id": "bbb4c721-e2d7-43cf-9661-951bbad47655",
   "metadata": {},
   "outputs": [],
   "source": [
    "# [import the required libraries]\n",
    "import numpy as nu\n",
    "from scipy import linalg"
   ]
  },
  {
   "cell_type": "code",
   "execution_count": 14,
   "id": "3bdab4c4-5841-46f8-b813-c0d6183c39ca",
   "metadata": {},
   "outputs": [],
   "source": [
    "# Test has 30 questions and worth 150 marks\n",
    "# True and False questions worth 4 marks each\n",
    "# Multiple choice questions worth 9 points each \n",
    "\n",
    "# Let x is the number of true/false questions\n",
    "# Let y is the number of multiple choice questions\n",
    "\n",
    "# (x + y = 30)\n",
    "# (4x + 9y = 150)\n",
    "testQuestionVariable = nu.array([[1,1],[4,9]])\n",
    "testQuestionValue = nu.array([30,150])"
   ]
  },
  {
   "cell_type": "code",
   "execution_count": 15,
   "id": "27a1078e-8d70-406a-85db-1e7338dcd7b7",
   "metadata": {},
   "outputs": [
    {
     "data": {
      "text/plain": [
       "array([24.,  6.])"
      ]
     },
     "execution_count": 15,
     "metadata": {},
     "output_type": "execute_result"
    }
   ],
   "source": [
    "# [Use linalg function of SciPy]\n",
    "# Use solve method to solve the linear equation and final value for x and y\n",
    "linalg.solve(testQuestionVariable,testQuestionValue)"
   ]
  },
  {
   "cell_type": "code",
   "execution_count": 6,
   "id": "5388a96c-ff46-4989-a5b7-67d91f1c4a38",
   "metadata": {},
   "outputs": [],
   "source": [
    "#\n"
   ]
  },
  {
   "cell_type": "code",
   "execution_count": 7,
   "id": "6fff14f9-026f-4cff-a297-3b572a09a4cd",
   "metadata": {},
   "outputs": [],
   "source": [
    "#\n"
   ]
  },
  {
   "cell_type": "code",
   "execution_count": null,
   "id": "19ac6894-0c57-4904-8772-2bfc63979e13",
   "metadata": {},
   "outputs": [],
   "source": [
    "#\n"
   ]
  }
 ],
 "metadata": {
  "kernelspec": {
   "display_name": "Python 3 (ipykernel)",
   "language": "python",
   "name": "python3"
  },
  "language_info": {
   "codemirror_mode": {
    "name": "ipython",
    "version": 3
   },
   "file_extension": ".py",
   "mimetype": "text/x-python",
   "name": "python",
   "nbconvert_exporter": "python",
   "pygments_lexer": "ipython3",
   "version": "3.9.12"
  }
 },
 "nbformat": 4,
 "nbformat_minor": 5
}
